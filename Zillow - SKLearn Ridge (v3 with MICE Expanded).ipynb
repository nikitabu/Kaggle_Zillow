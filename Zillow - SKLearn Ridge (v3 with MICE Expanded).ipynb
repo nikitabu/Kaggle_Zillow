{
 "cells": [
  {
   "cell_type": "markdown",
   "metadata": {},
   "source": [
    "# Kaggle: Zillow Housing Ridge Regression with MICE"
   ]
  },
  {
   "cell_type": "code",
   "execution_count": 1,
   "metadata": {
    "collapsed": true,
    "scrolled": true
   },
   "outputs": [],
   "source": [
    "#######################################\n",
    "### Import Data Processing Packages ###\n",
    "#######################################\n",
    "\n",
    "import pandas            as pd;\n",
    "import numpy             as np;\n",
    "import seaborn           as sns;\n",
    "import matplotlib.pyplot as plt;\n",
    "import math              as math;\n",
    "\n",
    "import gc\n",
    "\n",
    "import csv\n",
    "\n",
    "from time import time\n",
    "\n",
    "%matplotlib inline\n",
    "\n",
    "from scipy import stats;\n",
    "\n",
    "########################################\n",
    "### Import Machine Learning Packages ###\n",
    "########################################\n",
    "\n",
    "from sklearn.preprocessing   import StandardScaler;\n",
    "from sklearn.preprocessing   import PolynomialFeatures;\n",
    "\n",
    "from sklearn.model_selection import train_test_split, cross_val_predict, cross_val_score, GridSearchCV;\n",
    "from sklearn.metrics         import classification_report, confusion_matrix, mean_absolute_error, mean_squared_error;\n",
    "\n",
    "from sklearn.discriminant_analysis import LinearDiscriminantAnalysis;\n",
    "from sklearn.discriminant_analysis import QuadraticDiscriminantAnalysis;\n",
    "\n",
    "from sklearn.linear_model    import LinearRegression;\n",
    "from sklearn.linear_model    import LogisticRegression, LogisticRegressionCV;\n",
    "from sklearn.linear_model    import Ridge, RidgeCV;\n",
    "from sklearn.linear_model    import Lasso, LassoCV;\n",
    "from sklearn.linear_model    import ElasticNet, ElasticNetCV;\n",
    "from sklearn.linear_model    import SGDRegressor;\n",
    "from sklearn.linear_model    import Lars;\n",
    "from sklearn.linear_model    import LassoLars;\n",
    "from sklearn.linear_model    import OrthogonalMatchingPursuit;\n",
    "from sklearn.linear_model    import BayesianRidge;\n",
    "\n",
    "from sklearn.neighbors       import KNeighborsClassifier;\n",
    "from sklearn.tree            import DecisionTreeClassifier;\n",
    "from sklearn.ensemble        import RandomForestClassifier;\n",
    "from sklearn.svm             import SVR;\n",
    "from sklearn.cluster         import KMeans;\n",
    "from sklearn.decomposition   import PCA;\n",
    "\n",
    "from sklearn.ensemble        import RandomForestRegressor;\n",
    "from sklearn.ensemble        import GradientBoostingRegressor;\n",
    "from sklearn.ensemble        import AdaBoostRegressor;\n",
    "\n",
    "from sklearn.neural_network  import MLPClassifier;\n",
    "\n",
    "from sklearn.pipeline        import Pipeline;\n",
    "\n",
    "from statsmodels.imputation  import mice"
   ]
  },
  {
   "cell_type": "code",
   "execution_count": 39,
   "metadata": {
    "scrolled": true
   },
   "outputs": [
    {
     "name": "stdout",
     "output_type": "stream",
     "text": [
      "Loading data ...\n"
     ]
    },
    {
     "name": "stderr",
     "output_type": "stream",
     "text": [
      "C:\\ProgramData\\Anaconda3\\lib\\site-packages\\IPython\\core\\interactiveshell.py:2717: DtypeWarning: Columns (22,32,34,49,55) have mixed types. Specify dtype option on import or set low_memory=False.\n",
      "  interactivity=interactivity, compiler=compiler, result=result)\n"
     ]
    },
    {
     "name": "stdout",
     "output_type": "stream",
     "text": [
      "Binding to float32\n",
      "(90275, 3)\n",
      "(2985217, 58)\n",
      "(2985217, 7)\n"
     ]
    }
   ],
   "source": [
    "print('Loading data ...')\n",
    "\n",
    "names = ['parcelid', 'air_conditioning_type', 'architectural_style', \n",
    "         'area_basement', 'num_bathroom', 'num_bedroom', 'framing_type',\n",
    "         'building_quality', 'num_bathroom_calc', 'deck_type',\n",
    "         'area_firstfloor_finished', 'area_total_calc',\n",
    "         'area_living_finished', 'perimeter_living',\n",
    "         'area_total', 'area_firstfloor_unfinished',\n",
    "         'area_base', 'fips', 'num_fireplace', 'num_fullbath',\n",
    "         'num_garagecar', 'area_garage', 'hashottuborspa',\n",
    "         'heating_type', 'latitude', 'longitude',\n",
    "         'area_lot', 'num_pool', 'area_pools', 'pooltypeid10',\n",
    "         'pooltypeid2', 'pooltypeid7', 'property_land_use_code',\n",
    "         'property_land_use_type', 'property_zoning_desc',\n",
    "         'census_raw_tract_block', 'region_city', 'region_county',\n",
    "         'region_neighborhood', 'region_zipcode', 'num_room', 'story_type',\n",
    "         'num_34_bath', 'material_type', 'num_unit',\n",
    "         'area_patio', 'area_shed', 'build_year',\n",
    "         'num_stories', 'flag_fireplace', 'tax_assessed_structure_value',\n",
    "         'tax_assessed_parcel_value', 'tax_assessment_year', 'tax_assessed_land_alue',\n",
    "         'tax_property', 'tax_delinquency_flag', 'tax_delinquency_year',\n",
    "         'census_tract_block']\n",
    "\n",
    "train  = pd.read_csv('train_2016_v2.csv')\n",
    "prop   = pd.read_csv('properties_2016.csv', names=names, header=0)\n",
    "sample = pd.read_csv('sample_submission.csv')\n",
    "\n",
    "print('Binding to float32')\n",
    "\n",
    "for c, dtype in zip(prop.columns, prop.dtypes):\n",
    "    if dtype == np.float64:\n",
    "        prop[c] = prop[c].astype(np.float32)\n",
    "        \n",
    "print(np.shape(train))\n",
    "print(np.shape(prop))\n",
    "print(np.shape(sample))"
   ]
  },
  {
   "cell_type": "code",
   "execution_count": 40,
   "metadata": {},
   "outputs": [
    {
     "name": "stdout",
     "output_type": "stream",
     "text": [
      "Creating training set ...\n",
      "(90275, 58)\n",
      "Creating testing set ...\n",
      "(2985217, 58)\n"
     ]
    }
   ],
   "source": [
    "print('Creating training set ...')\n",
    "\n",
    "df_train = train.merge(prop, how='left', on='parcelid')\n",
    "y_train  = df_train['logerror'].values\n",
    "df_train = df_train.drop(['logerror', 'transactiondate'], axis=1)\n",
    "\n",
    "print(np.shape(df_train))\n",
    "\n",
    "print('Creating testing set ...')\n",
    "\n",
    "sample['parcelid'] = sample['ParcelId'];\n",
    "sample = sample.drop(['ParcelId', '201610', '201611', '201612', '201710', '201711', '201712'], axis=1)\n",
    "df_sample = pd.merge(sample, prop, on='parcelid', how='left')\n",
    "\n",
    "print(np.shape(df_sample))\n",
    "\n",
    "del train, prop, sample;\n",
    "gc.collect();"
   ]
  },
  {
   "cell_type": "code",
   "execution_count": 41,
   "metadata": {},
   "outputs": [
    {
     "name": "stdout",
     "output_type": "stream",
     "text": [
      "(90275, 53)\n",
      "(2985217, 53)\n"
     ]
    }
   ],
   "source": [
    "df_train = df_train.drop(['census_raw_tract_block', 'census_tract_block', 'region_city', 'region_neighborhood', 'region_zipcode'], \n",
    "                     axis=1);\n",
    "\n",
    "df_sample = df_sample.drop(['census_raw_tract_block', 'census_tract_block', 'region_city', 'region_neighborhood', 'region_zipcode'], \n",
    "                     axis=1);\n",
    "\n",
    "print(np.shape(df_train))\n",
    "print(np.shape(df_sample))"
   ]
  },
  {
   "cell_type": "code",
   "execution_count": 42,
   "metadata": {},
   "outputs": [
    {
     "name": "stdout",
     "output_type": "stream",
     "text": [
      "(90275, 53)\n",
      "(2985217, 53)\n"
     ]
    }
   ],
   "source": [
    "######################################################################\n",
    "### Replace Columns with Lots of NaN values with NaN Value Columns ###\n",
    "######################################################################\n",
    "\n",
    "df_train_nan = df_train.isnull().sum(axis=0)/len(df_train);\n",
    "\n",
    "df_train[df_train_nan[df_train_nan > 0.9].index.values]  = df_train[df_train_nan[df_train_nan > 0.9].index.values].notnull().astype('int')\n",
    "df_sample[df_train_nan[df_train_nan > 0.9].index.values] = df_sample[df_train_nan[df_train_nan > 0.9].index.values].notnull().astype('int')\n",
    "\n",
    "print(np.shape(df_train))\n",
    "print(np.shape(df_sample))"
   ]
  },
  {
   "cell_type": "code",
   "execution_count": 43,
   "metadata": {},
   "outputs": [
    {
     "name": "stdout",
     "output_type": "stream",
     "text": [
      "Merging training and testing for preprocessing...\n",
      "(3075492, 53)\n"
     ]
    }
   ],
   "source": [
    "print('Merging training and testing for preprocessing...')\n",
    "\n",
    "assert(np.array_equal(df_train.columns.values, df_sample.columns.values))\n",
    "\n",
    "rows_train = np.shape(df_train)[0]\n",
    "df_all = pd.concat([df_train, df_sample])\n",
    "\n",
    "print(np.shape(df_all))\n",
    "\n",
    "del df_train, df_sample;\n",
    "gc.collect();"
   ]
  },
  {
   "cell_type": "code",
   "execution_count": 44,
   "metadata": {},
   "outputs": [
    {
     "name": "stdout",
     "output_type": "stream",
     "text": [
      "(3075492, 87)\n"
     ]
    }
   ],
   "source": [
    "df_all = pd.concat([df_all, pd.get_dummies(df_all['fips'],                prefix='fips',                dummy_na=True)], axis=1);\n",
    "df_all = pd.concat([df_all, pd.get_dummies(df_all['heating_type'],        prefix='heating_type',        dummy_na=True)], axis=1);\n",
    "df_all = pd.concat([df_all, pd.get_dummies(df_all['region_county'],       prefix='region_county',       dummy_na=True)], axis=1);\n",
    "df_all = pd.concat([df_all, pd.get_dummies(df_all['tax_assessment_year'], prefix='tax_assessment_year', dummy_na=True)], axis=1);\n",
    "\n",
    "df_all = df_all.drop('fips',                  axis=1);\n",
    "df_all = df_all.drop('heating_type',          axis=1);\n",
    "df_all = df_all.drop('region_county',         axis=1);\n",
    "df_all = df_all.drop('tax_assessment_year',   axis=1);\n",
    "\n",
    "print(np.shape(df_all))"
   ]
  },
  {
   "cell_type": "code",
   "execution_count": 45,
   "metadata": {},
   "outputs": [],
   "source": [
    "df_prop = df_all[['property_zoning_desc', 'property_land_use_type', 'property_land_use_code']]\n",
    "\n",
    "df_all = df_all.drop(['property_zoning_desc', 'property_land_use_type', 'property_land_use_code'], axis=1)"
   ]
  },
  {
   "cell_type": "code",
   "execution_count": null,
   "metadata": {},
   "outputs": [
    {
     "name": "stdout",
     "output_type": "stream",
     "text": [
      "(90275, 84)\n",
      "(2985217, 84)\n"
     ]
    }
   ],
   "source": [
    "df_train  = df_all[:rows_train]\n",
    "df_sample = df_all[rows_train:]\n",
    "\n",
    "del df_all;\n",
    "gc.collect();\n",
    "\n",
    "print(np.shape(df_train))\n",
    "print(np.shape(df_sample))"
   ]
  },
  {
   "cell_type": "code",
   "execution_count": null,
   "metadata": {
    "collapsed": true
   },
   "outputs": [],
   "source": [
    "# Drop Columns that have all zero entries\n",
    "'''\n",
    "for col in df_train.columns[(df_train == 0).all()].values:\n",
    "    df_train.drop(col,  axis=1);\n",
    "    df_sample.drop(col, axis=1);\n",
    "\n",
    "for col in df_sample.columns[(df_sample == 0).all()].values:\n",
    "    df_train.drop(col,  axis=1);\n",
    "    df_sample.drop(col, axis=1);\n",
    "'''"
   ]
  },
  {
   "cell_type": "code",
   "execution_count": null,
   "metadata": {},
   "outputs": [
    {
     "name": "stderr",
     "output_type": "stream",
     "text": [
      "C:\\ProgramData\\Anaconda3\\lib\\site-packages\\statsmodels\\imputation\\mice.py:972: RuntimeWarning: covariance is not positive-semidefinite.\n",
      "  self.params[vname] = np.random.multivariate_normal(mean=mu, cov=cov)\n",
      "C:\\ProgramData\\Anaconda3\\lib\\site-packages\\pandas\\core\\indexing.py:179: SettingWithCopyWarning: \n",
      "A value is trying to be set on a copy of a slice from a DataFrame\n",
      "\n",
      "See the caveats in the documentation: http://pandas.pydata.org/pandas-docs/stable/indexing.html#indexing-view-versus-copy\n",
      "  self._setitem_with_indexer(indexer, value)\n"
     ]
    }
   ],
   "source": [
    "df_train  = df_train.rename( columns = lambda x : str(x).replace('.', '_'))\n",
    "df_sample = df_sample.rename(columns = lambda x : str(x).replace('.', '_'))\n",
    "\n",
    "df_train  = df_train.rename( columns = lambda x : str(x).replace('*', '_'))\n",
    "df_sample = df_sample.rename(columns = lambda x : str(x).replace('*', '_'))\n",
    "\n",
    "df_sample = df_sample.rename(columns = lambda x : str(x).replace('0', 'zero'))\n",
    "df_sample = df_sample.rename(columns = lambda x : str(x).replace('1', 'one'))\n",
    "df_sample = df_sample.rename(columns = lambda x : str(x).replace('2', 'two'))\n",
    "df_sample = df_sample.rename(columns = lambda x : str(x).replace('3', 'three'))\n",
    "df_sample = df_sample.rename(columns = lambda x : str(x).replace('4', 'four'))\n",
    "df_sample = df_sample.rename(columns = lambda x : str(x).replace('5', 'five'))\n",
    "df_sample = df_sample.rename(columns = lambda x : str(x).replace('6', 'six'))\n",
    "df_sample = df_sample.rename(columns = lambda x : str(x).replace('7', 'seven'))\n",
    "df_sample = df_sample.rename(columns = lambda x : str(x).replace('8', 'eight'))\n",
    "df_sample = df_sample.rename(columns = lambda x : str(x).replace('9', 'nine'))\n",
    "\n",
    "df_train = df_train.rename(columns = lambda x : str(x).replace('0', 'zero'))\n",
    "df_train = df_train.rename(columns = lambda x : str(x).replace('1', 'one'))\n",
    "df_train = df_train.rename(columns = lambda x : str(x).replace('2', 'two'))\n",
    "df_train = df_train.rename(columns = lambda x : str(x).replace('3', 'three'))\n",
    "df_train = df_train.rename(columns = lambda x : str(x).replace('4', 'four'))\n",
    "df_train = df_train.rename(columns = lambda x : str(x).replace('5', 'five'))\n",
    "df_train = df_train.rename(columns = lambda x : str(x).replace('6', 'six'))\n",
    "df_train = df_train.rename(columns = lambda x : str(x).replace('7', 'seven'))\n",
    "df_train = df_train.rename(columns = lambda x : str(x).replace('8', 'eight'))\n",
    "df_train = df_train.rename(columns = lambda x : str(x).replace('9', 'nine'))\n",
    "\n",
    "df_train  = df_train.rename( columns = lambda x : str(x).replace('_', ''))\n",
    "df_sample = df_sample.rename(columns = lambda x : str(x).replace('_', ''))\n",
    "\n",
    "df_train.columns  = df_train.columns.astype(str)\n",
    "df_sample.columns = df_sample.columns.astype(str)\n",
    "    \n",
    "imp_train  = mice.MICEData(df_train)\n",
    "imp_sample = mice.MICEData(df_sample)\n",
    "\n",
    "imp_train.update_all()\n",
    "imp_sample.update_all()\n",
    "\n",
    "df_train  = imp_train.data;\n",
    "df_sample = imp_sample.data;"
   ]
  },
  {
   "cell_type": "code",
   "execution_count": null,
   "metadata": {},
   "outputs": [
    {
     "name": "stdout",
     "output_type": "stream",
     "text": [
      "Merging training and testing for preprocessing...\n",
      "(3075492, 84)\n"
     ]
    }
   ],
   "source": [
    "print('Merging training and testing for preprocessing...')\n",
    "\n",
    "assert(np.array_equal(df_train.columns.values, df_sample.columns.values))\n",
    "\n",
    "rows_train = np.shape(df_train)[0]\n",
    "df_all = pd.concat([df_train, df_sample])\n",
    "\n",
    "print(np.shape(df_all))\n",
    "\n",
    "del df_train, df_sample;\n",
    "gc.collect();"
   ]
  },
  {
   "cell_type": "code",
   "execution_count": null,
   "metadata": {},
   "outputs": [
    {
     "name": "stdout",
     "output_type": "stream",
     "text": [
      "(3075492, 84)\n",
      "(3075492, 3)\n"
     ]
    }
   ],
   "source": [
    "print(np.shape(df_all))\n",
    "print(np.shape(df_prop))"
   ]
  },
  {
   "cell_type": "code",
   "execution_count": null,
   "metadata": {},
   "outputs": [
    {
     "name": "stdout",
     "output_type": "stream",
     "text": [
      "(3075492, 453)\n"
     ]
    }
   ],
   "source": [
    "df_all = pd.concat([df_all, df_prop], axis=1)\n",
    "\n",
    "zoning_counts        = df_all['property_zoning_desc'].value_counts().reset_index();\n",
    "land_use_type_counts = df_all['property_land_use_type'].value_counts().reset_index();\n",
    "land_use_code_counts = df_all['property_land_use_code'].value_counts().reset_index();\n",
    "\n",
    "df_all['property_zoning_desc']   = df_all['property_zoning_desc'].replace(  to_replace=zoning_counts[zoning_counts['property_zoning_desc']                 < 1000]['index'].values, value='zone_other')\n",
    "df_all['property_land_use_type'] = df_all['property_land_use_type'].replace(to_replace=land_use_type_counts[land_use_type_counts['property_land_use_type'] < 1000]['index'].values, value='landtype_other')\n",
    "df_all['property_land_use_code'] = df_all['property_land_use_code'].replace(to_replace=land_use_code_counts[land_use_code_counts['property_land_use_code'] < 1000]['index'].values, value='landuse_other')\n",
    "\n",
    "df_all = pd.concat([df_all, pd.get_dummies(df_all['property_zoning_desc'],   prefix='zoning')],   axis=1);\n",
    "df_all = pd.concat([df_all, pd.get_dummies(df_all['property_land_use_type'], prefix='landtype')], axis=1);\n",
    "df_all = pd.concat([df_all, pd.get_dummies(df_all['property_land_use_code'], prefix='landcode')], axis=1);\n",
    "\n",
    "df_all = df_all.drop('property_zoning_desc',   axis=1);\n",
    "df_all = df_all.drop('property_land_use_type', axis=1);\n",
    "df_all = df_all.drop('property_land_use_code', axis=1);\n",
    "\n",
    "print(np.shape(df_all))"
   ]
  },
  {
   "cell_type": "code",
   "execution_count": null,
   "metadata": {},
   "outputs": [
    {
     "name": "stdout",
     "output_type": "stream",
     "text": [
      "(90275, 453)\n",
      "(2985217, 453)\n"
     ]
    }
   ],
   "source": [
    "df_train  = df_all[:rows_train]\n",
    "df_sample = df_all[rows_train:]\n",
    "\n",
    "del df_all;\n",
    "gc.collect();\n",
    "\n",
    "print(np.shape(df_train))\n",
    "print(np.shape(df_sample))"
   ]
  },
  {
   "cell_type": "code",
   "execution_count": null,
   "metadata": {},
   "outputs": [
    {
     "name": "stdout",
     "output_type": "stream",
     "text": [
      "(90275, 452)\n",
      "(2985217, 452)\n"
     ]
    }
   ],
   "source": [
    "###############\n",
    "### Scaling ###\n",
    "###############\n",
    "\n",
    "train_scaler = StandardScaler();\n",
    "train_scaler.fit(df_train.drop('parcelid', axis=1));\n",
    "df_train = train_scaler.transform(df_train.drop('parcelid', axis=1));\n",
    "\n",
    "test_scaler = StandardScaler();\n",
    "test_scaler.fit(df_sample.drop('parcelid', axis=1));\n",
    "df_sample = test_scaler.transform(df_sample.drop('parcelid', axis=1));\n",
    "\n",
    "print(np.shape(df_train))\n",
    "print(np.shape(df_sample))"
   ]
  },
  {
   "cell_type": "code",
   "execution_count": null,
   "metadata": {},
   "outputs": [
    {
     "name": "stdout",
     "output_type": "stream",
     "text": [
      "(90275, 452)\n",
      "(2985217, 452)\n",
      "Writing csv ...\n"
     ]
    }
   ],
   "source": [
    "### Export As CSV to Save Time Later\n",
    "\n",
    "print(np.shape(df_train))\n",
    "print(np.shape(df_sample))\n",
    "\n",
    "print('Writing csv ...') \n",
    "np.savetxt(\"input/Train_MICE_Expanded_Scaled_p4.csv\", df_train,  delimiter=\",\", fmt='%1.4f')\n",
    "np.savetxt(\"input/Test_MICE_Expanded_Scaled_p4.csv\",  df_sample, delimiter=\",\", fmt='%1.4f')"
   ]
  },
  {
   "cell_type": "code",
   "execution_count": 5,
   "metadata": {
    "collapsed": true
   },
   "outputs": [],
   "source": [
    "### Load CSV\n",
    "'''\n",
    "df_train  = np.loadtxt('Train_MedianImpute_Scaled_p4.csv', delimiter=',')\n",
    "df_sample = np.loadtxt('Test_MedianImpute_Scaled_p4.csv',  delimiter=',')\n",
    "\n",
    "print(np.shape(df_train))\n",
    "print(np.shape(df_sample))\n",
    "\n",
    "'''"
   ]
  },
  {
   "cell_type": "code",
   "execution_count": null,
   "metadata": {},
   "outputs": [
    {
     "name": "stdout",
     "output_type": "stream",
     "text": [
      "(90275, 452) (90275,)\n"
     ]
    }
   ],
   "source": [
    "#x_train = df_train.drop(['parcelid'], axis=1)\n",
    "x_train = df_train\n",
    "print(x_train.shape, y_train.shape)\n",
    "\n",
    "#train_columns = x_train.columns\n",
    "\n",
    "#for c in x_train.dtypes[x_train.dtypes == object].index.values:\n",
    "#    x_train[c] = (x_train[c] == True)\n",
    "#    \n",
    "#x_train.head()"
   ]
  },
  {
   "cell_type": "code",
   "execution_count": null,
   "metadata": {},
   "outputs": [
    {
     "name": "stdout",
     "output_type": "stream",
     "text": [
      "(72220, 452) (72220,)\n",
      "(18055, 452) (18055,)\n"
     ]
    }
   ],
   "source": [
    "x_train2, x_valid2, y_train2, y_valid2 = train_test_split(x_train, y_train, test_size=0.2)\n",
    "\n",
    "print(x_train2.shape, y_train2.shape)\n",
    "print(x_valid2.shape, y_valid2.shape)\n",
    "\n",
    "#del df_train; gc.collect()"
   ]
  },
  {
   "cell_type": "code",
   "execution_count": null,
   "metadata": {},
   "outputs": [
    {
     "name": "stdout",
     "output_type": "stream",
     "text": [
      "0.0686423705345\n",
      "0.0688144901054\n"
     ]
    }
   ],
   "source": [
    "print(mean_absolute_error(y_valid2, np.zeros(len(y_valid2))))\n",
    "print(mean_absolute_error(y_valid2, np.full(len(y_valid2), np.mean(y_valid2))))"
   ]
  },
  {
   "cell_type": "code",
   "execution_count": null,
   "metadata": {},
   "outputs": [],
   "source": [
    "lr = Ridge(alpha=10**5)\n",
    "\n",
    "print('Training ...')\n",
    "\n",
    "start_time = time();\n",
    "lr.fit(x_train2, y_train2);\n",
    "pred1 = lr.predict(x_valid2);\n",
    "print(\"Fitting and training took \" + str(time()-start_time) + \" s\")\n",
    "\n",
    "start_time = time();\n",
    "pred2 = cross_val_predict(lr, x_train, y_train, cv=5)\n",
    "print(\"Cross-val predict took \" + str(time()-start_time) + \" s\")\n",
    "\n",
    "fig  = plt.figure(figsize=(8, 3), dpi=100);\n",
    "\n",
    "axes1 = fig.add_subplot(121); \n",
    "axes1.scatter(y_valid2, pred1, c='orange', s=20)\n",
    "axes1.set_title(\"Train Test Split\")\n",
    "axes1.set_xlabel('Measured')\n",
    "axes1.set_ylabel('Predicted')\n",
    "\n",
    "axes2 = fig.add_subplot(122); \n",
    "axes2.scatter(y_train, pred2, c='orange', s=20)\n",
    "axes2.set_title(\"Cross Validation\")\n",
    "axes2.set_xlabel('Measured')\n",
    "axes2.set_ylabel('Predicted')\n",
    "\n",
    "fig.tight_layout();\n",
    "\n",
    "print(\"Train Test Split\")\n",
    "print('MAE:',          mean_absolute_error(y_valid2, pred1))\n",
    "print('MSE:',          mean_squared_error( y_valid2, pred1))\n",
    "print('RMSE:', np.sqrt(mean_squared_error( y_valid2, pred1)))\n",
    "print('\\n')\n",
    "print(\"Cross Validation\")\n",
    "print('MAE:',          mean_absolute_error(y_train, pred2))\n",
    "print('MSE:',          mean_squared_error( y_train, pred2))\n",
    "print('RMSE:', np.sqrt(mean_squared_error( y_train, pred2)))\n",
    "\n",
    "#del d_train, d_valid"
   ]
  },
  {
   "cell_type": "code",
   "execution_count": null,
   "metadata": {},
   "outputs": [
    {
     "data": {
      "image/png": "[encoded data removed]",
      "text/plain": [
       "<matplotlib.figure.Figure at 0x2277e33b4a8>"
      ]
     },
     "metadata": {},
     "output_type": "display_data"
    }
   ],
   "source": [
    "fig  = plt.figure(figsize=(8, 3), dpi=100);\n",
    "\n",
    "axes1 = fig.add_subplot(121); \n",
    "axes2 = fig.add_subplot(122); \n",
    "\n",
    "sns.distplot((y_valid2-pred1), bins=500, ax=axes1, axlabel='Error Deviation', kde_kws={\"color\": \"k\", \"lw\": 1.5, \"gridsize\":1000}, hist_kws={\"linewidth\": 3, \"alpha\": 0.6, \"color\": \"orange\"});\n",
    "sns.distplot((y_train -pred2), bins=500, ax=axes2, axlabel='Error Deviation', kde_kws={\"color\": \"k\", \"lw\": 1.5, \"gridsize\":1000}, hist_kws={\"linewidth\": 3, \"alpha\": 0.6, \"color\": \"orange\"});\n",
    "\n",
    "axes1.set_title(\"Train Test Split\")\n",
    "axes2.set_title(\"Cross Validation\")\n",
    "\n",
    "axes1.set_xlim(-1, 1);\n",
    "axes2.set_xlim(-1, 1);"
   ]
  },
  {
   "cell_type": "code",
   "execution_count": null,
   "metadata": {},
   "outputs": [
    {
     "name": "stdout",
     "output_type": "stream",
     "text": [
      "[ -1.14467699e-02  -1.09915631e-02  -8.40881011e-03  -1.78016958e-03\n",
      "  -7.30268185e-05   1.18386514e-04   4.62386259e-04   7.74850852e-04\n",
      "   1.13004418e-03   2.45936828e-03   3.29523148e-04  -7.07428784e-04]\n"
     ]
    },
    {
     "data": {
      "image/png": "[encoded data removed]",
      "text/plain": [
       "<matplotlib.figure.Figure at 0x22754b32710>"
      ]
     },
     "metadata": {},
     "output_type": "display_data"
    }
   ],
   "source": [
    "lr = Ridge()\n",
    "\n",
    "values = [10.0**power for power in np.arange(-4, 8, 1)]\n",
    "\n",
    "param_grid = [{'alpha': values}]\n",
    "grid = GridSearchCV(lr, param_grid, cv=5)\n",
    "grid.fit(x_train, y_train)\n",
    "print(grid.cv_results_['mean_test_score'])\n",
    "grid.best_estimator_\n",
    "\n",
    "fig = plt.figure(figsize=(4, 3), dpi=150);\n",
    "axes1 = fig.add_subplot(111); \n",
    "axes1.plot(values, grid.cv_results_['mean_test_score'],  color='red',  linewidth = 1);\n",
    "axes1.axis('tight');\n",
    "axes1.tick_params(axis = 'both', which = 'major', labelsize = 9);#\n",
    "axes1.set_xscale('log')\n",
    "#axes1.set_yscale('log')\n",
    "axes1.set_xbound(min(values), max(values))\n",
    "fig.tight_layout();"
   ]
  },
  {
   "cell_type": "code",
   "execution_count": null,
   "metadata": {},
   "outputs": [],
   "source": [
    "print('Exporting Train Predictions for Stacking');\n",
    "\n",
    "pred_train = lr.predict(x_train);\n",
    "\n",
    "np.savetxt(\"pred_train/17_07_04_Ridge_MICE_Expanded.csv\", pred_train,  delimiter=\",\", fmt='%1.4f')"
   ]
  },
  {
   "cell_type": "code",
   "execution_count": null,
   "metadata": {},
   "outputs": [],
   "source": [
    "print('Building test set ...')\n",
    "\n",
    "#df_test = df_sample.drop('parcelid', axis=1)\n",
    "df_test = df_sample\n",
    "\n",
    "print(np.shape(df_test))"
   ]
  },
  {
   "cell_type": "code",
   "execution_count": null,
   "metadata": {
    "collapsed": true
   },
   "outputs": [],
   "source": [
    "#x_test = df_test[df_test.columns.values]\n",
    "x_test = df_test\n",
    "\n",
    "#print(len(x_test.columns.values))\n",
    "#print(len(x_test.columns.unique()))\n",
    "\n",
    "#del df_test, sample; gc.collect()"
   ]
  },
  {
   "cell_type": "code",
   "execution_count": null,
   "metadata": {},
   "outputs": [],
   "source": [
    "print('Predicting on test ...')\n",
    "\n",
    "p_test = lr.predict(x_test)\n",
    "\n",
    "#del d_test; gc.collect()\n",
    "\n",
    "sub = pd.read_csv('sample_submission.csv')\n",
    "for c in sub.columns[sub.columns != 'ParcelId']:\n",
    "    sub[c] = p_test"
   ]
  },
  {
   "cell_type": "code",
   "execution_count": null,
   "metadata": {},
   "outputs": [],
   "source": [
    "print('Writing csv ...')\n",
    "sub.to_csv('pred_test/17_07_04_Ridge_MICE_Expanded.csv',   index=False, float_format='%.4f')\n",
    "sub.to_csv('submissions/17_07_04_Ridge_MICE_Expanded.csv', index=False, float_format='%.4f')"
   ]
  },
  {
   "cell_type": "code",
   "execution_count": null,
   "metadata": {
    "collapsed": true
   },
   "outputs": [],
   "source": []
  }
 ],
 "metadata": {
  "kernelspec": {
   "display_name": "Python 3",
   "language": "python",
   "name": "python3"
  },
  "language_info": {
   "codemirror_mode": {
    "name": "ipython",
    "version": 3
   },
   "file_extension": ".py",
   "mimetype": "text/x-python",
   "name": "python",
   "nbconvert_exporter": "python",
   "pygments_lexer": "ipython3",
   "version": "3.6.1"
  }
 },
 "nbformat": 4,
 "nbformat_minor": 2
}
