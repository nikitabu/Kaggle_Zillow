{
 "cells": [
  {
   "cell_type": "markdown",
   "metadata": {},
   "source": [
    "# Kaggle: Zillow Housing Regression with LightGBM"
   ]
  },
  {
   "cell_type": "code",
   "execution_count": 1,
   "metadata": {
    "collapsed": true,
    "scrolled": true
   },
   "outputs": [],
   "source": [
    "import numpy as np\n",
    "import pandas as pd\n",
    "import lightgbm as lgb\n",
    "import gc\n",
    "\n",
    "import matplotlib.pyplot as plt;\n",
    "%matplotlib inline\n",
    "\n",
    "from sklearn.model_selection import train_test_split;"
   ]
  },
  {
   "cell_type": "code",
   "execution_count": 16,
   "metadata": {},
   "outputs": [
    {
     "name": "stdout",
     "output_type": "stream",
     "text": [
      "Loading data ...\n"
     ]
    },
    {
     "name": "stderr",
     "output_type": "stream",
     "text": [
      "C:\\ProgramData\\Anaconda3\\lib\\site-packages\\IPython\\core\\interactiveshell.py:2717: DtypeWarning: Columns (22,32,34,49,55) have mixed types. Specify dtype option on import or set low_memory=False.\n",
      "  interactivity=interactivity, compiler=compiler, result=result)\n"
     ]
    },
    {
     "name": "stdout",
     "output_type": "stream",
     "text": [
      "Binding to float32\n",
      "(90275, 3)\n",
      "(2985217, 58)\n",
      "(2985217, 7)\n"
     ]
    },
    {
     "data": {
      "text/html": [
       "<div>\n",
       "<style>\n",
       "    .dataframe thead tr:only-child th {\n",
       "        text-align: right;\n",
       "    }\n",
       "\n",
       "    .dataframe thead th {\n",
       "        text-align: left;\n",
       "    }\n",
       "\n",
       "    .dataframe tbody tr th {\n",
       "        vertical-align: top;\n",
       "    }\n",
       "</style>\n",
       "<table border=\"1\" class=\"dataframe\">\n",
       "  <thead>\n",
       "    <tr style=\"text-align: right;\">\n",
       "      <th></th>\n",
       "      <th>parcelid</th>\n",
       "      <th>logerror</th>\n",
       "      <th>transactiondate</th>\n",
       "    </tr>\n",
       "  </thead>\n",
       "  <tbody>\n",
       "    <tr>\n",
       "      <th>0</th>\n",
       "      <td>11016594</td>\n",
       "      <td>0.0276</td>\n",
       "      <td>2016-01-01</td>\n",
       "    </tr>\n",
       "    <tr>\n",
       "      <th>1</th>\n",
       "      <td>14366692</td>\n",
       "      <td>-0.1684</td>\n",
       "      <td>2016-01-01</td>\n",
       "    </tr>\n",
       "    <tr>\n",
       "      <th>2</th>\n",
       "      <td>12098116</td>\n",
       "      <td>-0.0040</td>\n",
       "      <td>2016-01-01</td>\n",
       "    </tr>\n",
       "    <tr>\n",
       "      <th>3</th>\n",
       "      <td>12643413</td>\n",
       "      <td>0.0218</td>\n",
       "      <td>2016-01-02</td>\n",
       "    </tr>\n",
       "    <tr>\n",
       "      <th>4</th>\n",
       "      <td>14432541</td>\n",
       "      <td>-0.0050</td>\n",
       "      <td>2016-01-02</td>\n",
       "    </tr>\n",
       "  </tbody>\n",
       "</table>\n",
       "</div>"
      ],
      "text/plain": [
       "   parcelid  logerror transactiondate\n",
       "0  11016594    0.0276      2016-01-01\n",
       "1  14366692   -0.1684      2016-01-01\n",
       "2  12098116   -0.0040      2016-01-01\n",
       "3  12643413    0.0218      2016-01-02\n",
       "4  14432541   -0.0050      2016-01-02"
      ]
     },
     "execution_count": 16,
     "metadata": {},
     "output_type": "execute_result"
    }
   ],
   "source": [
    "print('Loading data ...')\n",
    "\n",
    "names = ['parcelid', 'air_conditioning_type', 'architectural_style', \n",
    "         'area_basement', 'num_bathroom', 'num_bedroom', 'framing_type',\n",
    "         'building_quality', 'num_bathroom_calc', 'deck_type',\n",
    "         'area_firstfloor_finished', 'area_total_calc',\n",
    "         'area_living_finished', 'perimeter_living',\n",
    "         'area_total', 'area_firstfloor_unfinished',\n",
    "         'area_base', 'fips', 'num_fireplace', 'num_fullbath',\n",
    "         'num_garagecar', 'area_garage', 'hashottuborspa',\n",
    "         'heating_type', 'latitude', 'longitude',\n",
    "         'area_lot', 'num_pool', 'area_pools', 'pooltypeid10',\n",
    "         'pooltypeid2', 'pooltypeid7', 'property_land_use_code',\n",
    "         'property_land_use_type', 'property_zoning_desc',\n",
    "         'census_raw_tract_block', 'region_city', 'region_county',\n",
    "         'region_neighborhood', 'region_zipcode', 'num_room', 'story_type',\n",
    "         'num_34_bath', 'material_type', 'num_unit',\n",
    "         'area_patio', 'area_shed', 'build_year',\n",
    "         'num_stories', 'flag_fireplace', 'tax_assessed_structure_value',\n",
    "         'tax_assessed_parcel_value', 'tax_assessment_year', 'tax_assessed_land_alue',\n",
    "         'tax_property', 'tax_delinquency_flag', 'tax_delinquency_year',\n",
    "         'census_tract_block']\n",
    "\n",
    "train  = pd.read_csv('train_2016_v2.csv')\n",
    "prop   = pd.read_csv('properties_2016.csv', names=names, header=0)\n",
    "sample = pd.read_csv('sample_submission.csv')\n",
    "\n",
    "print('Binding to float32')\n",
    "\n",
    "for c, dtype in zip(prop.columns, prop.dtypes):\n",
    "    if dtype == np.float64:\n",
    "        prop[c] = prop[c].astype(np.float32)\n",
    "        \n",
    "print(np.shape(train))\n",
    "print(np.shape(prop))\n",
    "print(np.shape(sample))\n",
    "\n",
    "train.head()"
   ]
  },
  {
   "cell_type": "code",
   "execution_count": 17,
   "metadata": {},
   "outputs": [
    {
     "name": "stdout",
     "output_type": "stream",
     "text": [
      "Creating training set ...\n",
      "(90275, 58)\n",
      "Creating testing set ...\n",
      "(2985217, 58)\n"
     ]
    }
   ],
   "source": [
    "print('Creating training set ...')\n",
    "\n",
    "df_train = train.merge(prop, how='left', on='parcelid')\n",
    "y_train  = df_train['logerror'].values\n",
    "df_train = df_train.drop(['logerror', 'transactiondate'], axis=1)\n",
    "\n",
    "print(np.shape(df_train))\n",
    "\n",
    "print('Creating testing set ...')\n",
    "\n",
    "sample['parcelid'] = sample['ParcelId'];\n",
    "sample = sample.drop(['ParcelId', '201610', '201611', '201612', '201710', '201711', '201712'], axis=1)\n",
    "df_sample = pd.merge(sample, prop, on='parcelid', how='left')\n",
    "\n",
    "print(np.shape(df_sample))"
   ]
  },
  {
   "cell_type": "code",
   "execution_count": 18,
   "metadata": {},
   "outputs": [
    {
     "name": "stdout",
     "output_type": "stream",
     "text": [
      "Merging training and testing for preprocessing...\n",
      "(3075492, 58)\n"
     ]
    }
   ],
   "source": [
    "print('Merging training and testing for preprocessing...')\n",
    "\n",
    "assert(np.array_equal(df_train.columns.values, df_sample.columns.values))\n",
    "\n",
    "rows_train = np.shape(df_train)[0]\n",
    "df_all = pd.concat([df_train, df_sample])\n",
    "\n",
    "print(np.shape(df_all))"
   ]
  },
  {
   "cell_type": "code",
   "execution_count": 19,
   "metadata": {},
   "outputs": [
    {
     "name": "stdout",
     "output_type": "stream",
     "text": [
      "(3075492, 157)\n"
     ]
    }
   ],
   "source": [
    "df_all = pd.concat([df_all, pd.get_dummies(df_all['air_conditioning_type'], prefix='air_conditioning_type', dummy_na=True)], axis=1);\n",
    "df_all = pd.concat([df_all, pd.get_dummies(df_all['architectural_style'],   prefix='architectural_style',   dummy_na=True)], axis=1);\n",
    "df_all = pd.concat([df_all, pd.get_dummies(df_all['framing_type'],          prefix='framing_type',          dummy_na=True)], axis=1);\n",
    "df_all = pd.concat([df_all, pd.get_dummies(df_all['deck_type'],             prefix='deck_type',             dummy_na=True)], axis=1);\n",
    "df_all = pd.concat([df_all, pd.get_dummies(df_all['fips'],                  prefix='fips',                  dummy_na=True)], axis=1);\n",
    "df_all = pd.concat([df_all, pd.get_dummies(df_all['hashottuborspa'],        prefix='hashottuborspa',        dummy_na=True)], axis=1);\n",
    "df_all = pd.concat([df_all, pd.get_dummies(df_all['heating_type'],          prefix='heating_type',          dummy_na=True)], axis=1);\n",
    "df_all = pd.concat([df_all, pd.get_dummies(df_all['pooltypeid10'],          prefix='pooltypeid10',          dummy_na=True)], axis=1);\n",
    "df_all = pd.concat([df_all, pd.get_dummies(df_all['pooltypeid2'],           prefix='pooltypeid2',           dummy_na=True)], axis=1);\n",
    "df_all = pd.concat([df_all, pd.get_dummies(df_all['pooltypeid7'],           prefix='pooltypeid7',           dummy_na=True)], axis=1);\n",
    "df_all = pd.concat([df_all, pd.get_dummies(df_all['region_county'],         prefix='region_county',         dummy_na=True)], axis=1);\n",
    "df_all = pd.concat([df_all, pd.get_dummies(df_all['story_type'],            prefix='story_type',            dummy_na=True)], axis=1);\n",
    "df_all = pd.concat([df_all, pd.get_dummies(df_all['flag_fireplace'],        prefix='flag_fireplace',        dummy_na=True)], axis=1);\n",
    "df_all = pd.concat([df_all, pd.get_dummies(df_all['tax_assessment_year'],   prefix='tax_assessment_year',   dummy_na=True)], axis=1);\n",
    "df_all = pd.concat([df_all, pd.get_dummies(df_all['tax_delinquency_flag'],  prefix='tax_delinquency_flag',  dummy_na=True)], axis=1);\n",
    "df_all = pd.concat([df_all, pd.get_dummies(df_all['tax_delinquency_year'],  prefix='tax_delinquency_year',  dummy_na=True)], axis=1);\n",
    "df_all = pd.concat([df_all, pd.get_dummies(df_all['material_type'],         prefix='material_type',         dummy_na=True)], axis=1);\n",
    "\n",
    "df_all = df_all.drop('air_conditioning_type', axis=1);\n",
    "df_all = df_all.drop('architectural_style',   axis=1);\n",
    "df_all = df_all.drop('framing_type',          axis=1);\n",
    "df_all = df_all.drop('deck_type',             axis=1);\n",
    "df_all = df_all.drop('fips',                  axis=1);\n",
    "df_all = df_all.drop('hashottuborspa',        axis=1);\n",
    "df_all = df_all.drop('heating_type',          axis=1);\n",
    "df_all = df_all.drop('pooltypeid10',          axis=1);\n",
    "df_all = df_all.drop('pooltypeid2',           axis=1);\n",
    "df_all = df_all.drop('pooltypeid7',           axis=1);\n",
    "df_all = df_all.drop('region_county',         axis=1);\n",
    "df_all = df_all.drop('story_type',            axis=1);\n",
    "df_all = df_all.drop('flag_fireplace',        axis=1);\n",
    "df_all = df_all.drop('tax_assessment_year',   axis=1);\n",
    "df_all = df_all.drop('tax_delinquency_flag',  axis=1);\n",
    "df_all = df_all.drop('tax_delinquency_year',  axis=1);\n",
    "df_all = df_all.drop('material_type',         axis=1);\n",
    "\n",
    "#df_all = df_all.drop(['census_raw_tract_block', 'census_tract_block', 'region_city', 'region_neighborhood', 'region_zipcode'], axis=1);\n",
    "\n",
    "print(np.shape(df_all))"
   ]
  },
  {
   "cell_type": "code",
   "execution_count": 20,
   "metadata": {},
   "outputs": [
    {
     "name": "stdout",
     "output_type": "stream",
     "text": [
      "(3075492, 523)\n"
     ]
    }
   ],
   "source": [
    "zoning_counts        = df_all['property_zoning_desc'].value_counts().reset_index();\n",
    "land_use_type_counts = df_all['property_land_use_type'].value_counts().reset_index();\n",
    "land_use_code_counts = df_all['property_land_use_code'].value_counts().reset_index();\n",
    "\n",
    "df_all['property_zoning_desc']   = df_all['property_zoning_desc'].replace(  to_replace=zoning_counts[zoning_counts['property_zoning_desc']                 < 1000]['index'].values, value='zone_other')\n",
    "df_all['property_land_use_type'] = df_all['property_land_use_type'].replace(to_replace=land_use_type_counts[land_use_type_counts['property_land_use_type'] < 1000]['index'].values, value='landtype_other')\n",
    "df_all['property_land_use_code'] = df_all['property_land_use_code'].replace(to_replace=land_use_code_counts[land_use_code_counts['property_land_use_code'] < 1000]['index'].values, value='landuse_other')\n",
    "\n",
    "df_all = pd.concat([df_all, pd.get_dummies(df_all['property_zoning_desc'])],   axis=1);\n",
    "df_all = pd.concat([df_all, pd.get_dummies(df_all['property_land_use_type'])], axis=1);\n",
    "df_all = pd.concat([df_all, pd.get_dummies(df_all['property_land_use_code'])], axis=1);\n",
    "\n",
    "df_all = df_all.drop('property_zoning_desc',   axis=1);\n",
    "df_all = df_all.drop('property_land_use_type', axis=1);\n",
    "df_all = df_all.drop('property_land_use_code', axis=1);\n",
    "\n",
    "print(np.shape(df_all))"
   ]
  },
  {
   "cell_type": "code",
   "execution_count": 21,
   "metadata": {},
   "outputs": [
    {
     "name": "stdout",
     "output_type": "stream",
     "text": [
      "(90275, 523)\n",
      "(2985217, 523)\n"
     ]
    }
   ],
   "source": [
    "df_train  = df_all[:rows_train]\n",
    "df_sample = df_all[rows_train:]\n",
    "\n",
    "print(np.shape(df_train))\n",
    "print(np.shape(df_sample))"
   ]
  },
  {
   "cell_type": "code",
   "execution_count": 22,
   "metadata": {},
   "outputs": [
    {
     "name": "stdout",
     "output_type": "stream",
     "text": [
      "(90275, 522) (90275,)\n"
     ]
    }
   ],
   "source": [
    "x_train = df_train.drop(['parcelid'], axis=1)\n",
    "print(x_train.shape, y_train.shape)\n",
    "\n",
    "train_columns = x_train.columns\n",
    "\n",
    "for c in x_train.dtypes[x_train.dtypes == object].index.values:\n",
    "    x_train[c] = (x_train[c] == True)"
   ]
  },
  {
   "cell_type": "code",
   "execution_count": 23,
   "metadata": {},
   "outputs": [
    {
     "data": {
      "text/html": [
       "<div>\n",
       "<style>\n",
       "    .dataframe thead tr:only-child th {\n",
       "        text-align: right;\n",
       "    }\n",
       "\n",
       "    .dataframe thead th {\n",
       "        text-align: left;\n",
       "    }\n",
       "\n",
       "    .dataframe tbody tr th {\n",
       "        vertical-align: top;\n",
       "    }\n",
       "</style>\n",
       "<table border=\"1\" class=\"dataframe\">\n",
       "  <thead>\n",
       "    <tr style=\"text-align: right;\">\n",
       "      <th></th>\n",
       "      <th>area_basement</th>\n",
       "      <th>num_bathroom</th>\n",
       "      <th>num_bedroom</th>\n",
       "      <th>building_quality</th>\n",
       "      <th>num_bathroom_calc</th>\n",
       "      <th>area_firstfloor_finished</th>\n",
       "      <th>area_total_calc</th>\n",
       "      <th>area_living_finished</th>\n",
       "      <th>perimeter_living</th>\n",
       "      <th>area_total</th>\n",
       "      <th>...</th>\n",
       "      <th>1210</th>\n",
       "      <th>122</th>\n",
       "      <th>1222</th>\n",
       "      <th>135</th>\n",
       "      <th>34</th>\n",
       "      <th>38</th>\n",
       "      <th>71</th>\n",
       "      <th>73</th>\n",
       "      <th>96</th>\n",
       "      <th>landuse_other</th>\n",
       "    </tr>\n",
       "  </thead>\n",
       "  <tbody>\n",
       "    <tr>\n",
       "      <th>0</th>\n",
       "      <td>NaN</td>\n",
       "      <td>2.0</td>\n",
       "      <td>3.0</td>\n",
       "      <td>4.0</td>\n",
       "      <td>2.0</td>\n",
       "      <td>NaN</td>\n",
       "      <td>1684.0</td>\n",
       "      <td>1684.0</td>\n",
       "      <td>NaN</td>\n",
       "      <td>NaN</td>\n",
       "      <td>...</td>\n",
       "      <td>0</td>\n",
       "      <td>0</td>\n",
       "      <td>0</td>\n",
       "      <td>0</td>\n",
       "      <td>0</td>\n",
       "      <td>0</td>\n",
       "      <td>0</td>\n",
       "      <td>0</td>\n",
       "      <td>0</td>\n",
       "      <td>0</td>\n",
       "    </tr>\n",
       "    <tr>\n",
       "      <th>1</th>\n",
       "      <td>NaN</td>\n",
       "      <td>3.5</td>\n",
       "      <td>4.0</td>\n",
       "      <td>NaN</td>\n",
       "      <td>3.5</td>\n",
       "      <td>NaN</td>\n",
       "      <td>2263.0</td>\n",
       "      <td>2263.0</td>\n",
       "      <td>NaN</td>\n",
       "      <td>NaN</td>\n",
       "      <td>...</td>\n",
       "      <td>0</td>\n",
       "      <td>0</td>\n",
       "      <td>0</td>\n",
       "      <td>0</td>\n",
       "      <td>0</td>\n",
       "      <td>0</td>\n",
       "      <td>0</td>\n",
       "      <td>0</td>\n",
       "      <td>0</td>\n",
       "      <td>0</td>\n",
       "    </tr>\n",
       "    <tr>\n",
       "      <th>2</th>\n",
       "      <td>NaN</td>\n",
       "      <td>3.0</td>\n",
       "      <td>2.0</td>\n",
       "      <td>4.0</td>\n",
       "      <td>3.0</td>\n",
       "      <td>NaN</td>\n",
       "      <td>2217.0</td>\n",
       "      <td>2217.0</td>\n",
       "      <td>NaN</td>\n",
       "      <td>NaN</td>\n",
       "      <td>...</td>\n",
       "      <td>0</td>\n",
       "      <td>0</td>\n",
       "      <td>0</td>\n",
       "      <td>0</td>\n",
       "      <td>0</td>\n",
       "      <td>0</td>\n",
       "      <td>0</td>\n",
       "      <td>0</td>\n",
       "      <td>0</td>\n",
       "      <td>0</td>\n",
       "    </tr>\n",
       "    <tr>\n",
       "      <th>3</th>\n",
       "      <td>NaN</td>\n",
       "      <td>2.0</td>\n",
       "      <td>2.0</td>\n",
       "      <td>4.0</td>\n",
       "      <td>2.0</td>\n",
       "      <td>NaN</td>\n",
       "      <td>839.0</td>\n",
       "      <td>839.0</td>\n",
       "      <td>NaN</td>\n",
       "      <td>NaN</td>\n",
       "      <td>...</td>\n",
       "      <td>0</td>\n",
       "      <td>0</td>\n",
       "      <td>0</td>\n",
       "      <td>0</td>\n",
       "      <td>0</td>\n",
       "      <td>0</td>\n",
       "      <td>0</td>\n",
       "      <td>0</td>\n",
       "      <td>0</td>\n",
       "      <td>0</td>\n",
       "    </tr>\n",
       "    <tr>\n",
       "      <th>4</th>\n",
       "      <td>NaN</td>\n",
       "      <td>2.5</td>\n",
       "      <td>4.0</td>\n",
       "      <td>NaN</td>\n",
       "      <td>2.5</td>\n",
       "      <td>NaN</td>\n",
       "      <td>2283.0</td>\n",
       "      <td>2283.0</td>\n",
       "      <td>NaN</td>\n",
       "      <td>NaN</td>\n",
       "      <td>...</td>\n",
       "      <td>0</td>\n",
       "      <td>1</td>\n",
       "      <td>0</td>\n",
       "      <td>0</td>\n",
       "      <td>0</td>\n",
       "      <td>0</td>\n",
       "      <td>0</td>\n",
       "      <td>0</td>\n",
       "      <td>0</td>\n",
       "      <td>0</td>\n",
       "    </tr>\n",
       "  </tbody>\n",
       "</table>\n",
       "<p>5 rows × 522 columns</p>\n",
       "</div>"
      ],
      "text/plain": [
       "   area_basement  num_bathroom  num_bedroom  building_quality  \\\n",
       "0            NaN           2.0          3.0               4.0   \n",
       "1            NaN           3.5          4.0               NaN   \n",
       "2            NaN           3.0          2.0               4.0   \n",
       "3            NaN           2.0          2.0               4.0   \n",
       "4            NaN           2.5          4.0               NaN   \n",
       "\n",
       "   num_bathroom_calc  area_firstfloor_finished  area_total_calc  \\\n",
       "0                2.0                       NaN           1684.0   \n",
       "1                3.5                       NaN           2263.0   \n",
       "2                3.0                       NaN           2217.0   \n",
       "3                2.0                       NaN            839.0   \n",
       "4                2.5                       NaN           2283.0   \n",
       "\n",
       "   area_living_finished  perimeter_living  area_total      ...        1210  \\\n",
       "0                1684.0               NaN         NaN      ...           0   \n",
       "1                2263.0               NaN         NaN      ...           0   \n",
       "2                2217.0               NaN         NaN      ...           0   \n",
       "3                 839.0               NaN         NaN      ...           0   \n",
       "4                2283.0               NaN         NaN      ...           0   \n",
       "\n",
       "   122  1222  135  34  38  71  73  96  landuse_other  \n",
       "0    0     0    0   0   0   0   0   0              0  \n",
       "1    0     0    0   0   0   0   0   0              0  \n",
       "2    0     0    0   0   0   0   0   0              0  \n",
       "3    0     0    0   0   0   0   0   0              0  \n",
       "4    1     0    0   0   0   0   0   0              0  \n",
       "\n",
       "[5 rows x 522 columns]"
      ]
     },
     "execution_count": 23,
     "metadata": {},
     "output_type": "execute_result"
    }
   ],
   "source": [
    "x_train.head()"
   ]
  },
  {
   "cell_type": "code",
   "execution_count": 24,
   "metadata": {
    "collapsed": true
   },
   "outputs": [],
   "source": [
    "x_train, x_valid, y_train, y_valid = train_test_split(x_train, y_train, test_size=0.2)"
   ]
  },
  {
   "cell_type": "code",
   "execution_count": 25,
   "metadata": {},
   "outputs": [
    {
     "name": "stdout",
     "output_type": "stream",
     "text": [
      "(72220, 522) (72220,)\n",
      "(18055, 522) (18055,)\n"
     ]
    }
   ],
   "source": [
    "print(x_train.shape, y_train.shape)\n",
    "print(x_valid.shape, y_valid.shape)"
   ]
  },
  {
   "cell_type": "code",
   "execution_count": 26,
   "metadata": {},
   "outputs": [
    {
     "name": "stdout",
     "output_type": "stream",
     "text": [
      "Building DMatrix...\n"
     ]
    }
   ],
   "source": [
    "print('Building LightGBM Datasets...')\n",
    "\n",
    "d_train = lgb.Dataset(x_train, label=y_train)\n",
    "d_valid = lgb.Dataset(x_valid, label=y_valid)\n",
    "\n",
    "#del x_train, x_valid; gc.collect()"
   ]
  },
  {
   "cell_type": "code",
   "execution_count": 28,
   "metadata": {},
   "outputs": [
    {
     "name": "stdout",
     "output_type": "stream",
     "text": [
      "Train until valid scores didn't improve in 10 rounds.\n",
      "[10]\tvalid_0's l2: 0.0275819\n",
      "[20]\tvalid_0's l2: 0.0275459\n",
      "[30]\tvalid_0's l2: 0.0275189\n",
      "[40]\tvalid_0's l2: 0.0274955\n",
      "[50]\tvalid_0's l2: 0.027469\n",
      "[60]\tvalid_0's l2: 0.0274475\n",
      "[70]\tvalid_0's l2: 0.0274233\n",
      "[80]\tvalid_0's l2: 0.0274046\n",
      "[90]\tvalid_0's l2: 0.0273903\n",
      "[100]\tvalid_0's l2: 0.0273813\n",
      "[110]\tvalid_0's l2: 0.0273708\n",
      "[120]\tvalid_0's l2: 0.0273607\n",
      "[130]\tvalid_0's l2: 0.0273488\n",
      "[140]\tvalid_0's l2: 0.0273391\n",
      "[150]\tvalid_0's l2: 0.0273309\n",
      "[160]\tvalid_0's l2: 0.0273209\n",
      "[170]\tvalid_0's l2: 0.0273136\n",
      "[180]\tvalid_0's l2: 0.0273055\n",
      "[190]\tvalid_0's l2: 0.0272998\n",
      "[200]\tvalid_0's l2: 0.0272955\n",
      "[210]\tvalid_0's l2: 0.0272927\n",
      "[220]\tvalid_0's l2: 0.0272864\n",
      "[230]\tvalid_0's l2: 0.0272829\n",
      "[240]\tvalid_0's l2: 0.0272796\n",
      "[250]\tvalid_0's l2: 0.0272751\n",
      "[260]\tvalid_0's l2: 0.0272699\n",
      "[270]\tvalid_0's l2: 0.0272683\n",
      "[280]\tvalid_0's l2: 0.027266\n",
      "[290]\tvalid_0's l2: 0.0272627\n",
      "[300]\tvalid_0's l2: 0.0272588\n",
      "[310]\tvalid_0's l2: 0.0272559\n",
      "[320]\tvalid_0's l2: 0.0272541\n",
      "[330]\tvalid_0's l2: 0.0272528\n",
      "[340]\tvalid_0's l2: 0.0272508\n",
      "[350]\tvalid_0's l2: 0.0272489\n",
      "[360]\tvalid_0's l2: 0.0272477\n",
      "[370]\tvalid_0's l2: 0.0272473\n",
      "Early stopping, best iteration is:\n",
      "[365]\tvalid_0's l2: 0.0272469\n"
     ]
    }
   ],
   "source": [
    "params = {}\n",
    "params['max_bin'] = 10\n",
    "params['learning_rate'] = 0.01 # shrinkage_rate\n",
    "params['boosting_type'] = 'gbdt'\n",
    "params['objective'] = 'regression'\n",
    "params['metric'] = 'l2'          # or 'mae'\n",
    "params['sub_feature'] = 0.5      # feature_fraction \n",
    "params['bagging_fraction'] = 0.85 # sub_row\n",
    "params['bagging_freq'] = 40\n",
    "params['num_leaves'] = 512        # num_leaf\n",
    "params['min_data'] = 500         # min_data_in_leaf\n",
    "params['min_hessian'] = 0.05     # min_sum_hessian_in_leaf\n",
    "\n",
    "watchlist = [d_valid]\n",
    "lgr = lgb.train(params, d_train, 1000, watchlist, early_stopping_rounds=10, verbose_eval=10)\n",
    "\n",
    "#del d_train, d_valid"
   ]
  },
  {
   "cell_type": "code",
   "execution_count": null,
   "metadata": {},
   "outputs": [],
   "source": [
    "print('Cross-validating...')\n",
    "\n",
    "d_crossval = xgb.DMatrix(x_train.values, label=y_train)\n",
    "\n",
    "watchlist = [(d_train, 'train'), (d_valid, 'valid')]\n",
    "\n",
    "cvl = xgb.cv(params, d_crossval, num_boost_round=500, nfold=5, early_stopping_rounds=10, verbose_eval=10)\n",
    "\n",
    "#del d_train, d_valid"
   ]
  },
  {
   "cell_type": "code",
   "execution_count": 49,
   "metadata": {},
   "outputs": [
    {
     "data": {
      "text/html": [
       "<div>\n",
       "<table border=\"1\" class=\"dataframe\">\n",
       "  <thead>\n",
       "    <tr style=\"text-align: right;\">\n",
       "      <th></th>\n",
       "      <th>test-mae-mean</th>\n",
       "      <th>test-mae-std</th>\n",
       "      <th>train-mae-mean</th>\n",
       "      <th>train-mae-std</th>\n",
       "    </tr>\n",
       "  </thead>\n",
       "  <tbody>\n",
       "    <tr>\n",
       "      <th>0</th>\n",
       "      <td>0.488088</td>\n",
       "      <td>0.000464</td>\n",
       "      <td>0.488082</td>\n",
       "      <td>0.000120</td>\n",
       "    </tr>\n",
       "    <tr>\n",
       "      <th>1</th>\n",
       "      <td>0.478681</td>\n",
       "      <td>0.000471</td>\n",
       "      <td>0.478669</td>\n",
       "      <td>0.000125</td>\n",
       "    </tr>\n",
       "    <tr>\n",
       "      <th>2</th>\n",
       "      <td>0.469474</td>\n",
       "      <td>0.000474</td>\n",
       "      <td>0.469454</td>\n",
       "      <td>0.000136</td>\n",
       "    </tr>\n",
       "    <tr>\n",
       "      <th>3</th>\n",
       "      <td>0.460445</td>\n",
       "      <td>0.000469</td>\n",
       "      <td>0.460420</td>\n",
       "      <td>0.000152</td>\n",
       "    </tr>\n",
       "    <tr>\n",
       "      <th>4</th>\n",
       "      <td>0.451604</td>\n",
       "      <td>0.000483</td>\n",
       "      <td>0.451571</td>\n",
       "      <td>0.000150</td>\n",
       "    </tr>\n",
       "  </tbody>\n",
       "</table>\n",
       "</div>"
      ],
      "text/plain": [
       "   test-mae-mean  test-mae-std  train-mae-mean  train-mae-std\n",
       "0       0.488088      0.000464        0.488082       0.000120\n",
       "1       0.478681      0.000471        0.478669       0.000125\n",
       "2       0.469474      0.000474        0.469454       0.000136\n",
       "3       0.460445      0.000469        0.460420       0.000152\n",
       "4       0.451604      0.000483        0.451571       0.000150"
      ]
     },
     "execution_count": 49,
     "metadata": {},
     "output_type": "execute_result"
    }
   ],
   "source": [
    "cvl.head()"
   ]
  },
  {
   "cell_type": "code",
   "execution_count": 54,
   "metadata": {},
   "outputs": [
    {
     "data": {
      "image/png": "[encoded data removed]",
      "text/plain": [
       "<matplotlib.figure.Figure at 0x210de68a978>"
      ]
     },
     "metadata": {},
     "output_type": "display_data"
    }
   ],
   "source": [
    "fig = plt.figure(figsize=(4, 3), dpi=150);\n",
    "\n",
    "textsize   = 11;\n",
    "legendsize = 9;\n",
    "ticksize   = 9;\n",
    "linethickness = 1;\n",
    "\n",
    "axes1 = fig.add_subplot(111); \n",
    "\n",
    "axes1.plot(cvl.index.values, cvl['test-mae-mean'],  color='red',  linewidth = linethickness);\n",
    "axes1.plot(cvl.index.values, cvl['train-mae-mean'], color='blue', linewidth = linethickness);\n",
    "\n",
    "axes1.axis('tight');\n",
    "axes1.tick_params(axis = 'both', which = 'major', labelsize = ticksize);\n",
    "#axes1.set_title('$\\mathrm{Single\\ Crystal\\ VO_{2}\\ Reflectivity}$',size=20);\n",
    "#axes1.set_xlabel('$\\mathrm{Current\\ [\\mu A]}$', size=textsize);\n",
    "#axes1.set_ylabel('$\\mathrm{Voltage\\ [V]}$',  size=textsize);\n",
    "\n",
    "axes1.legend([\"Test\", \"Train\"], prop={'size': legendsize}, loc='upper left');\n",
    "\n",
    "#t1 = axes1.text(0.02, 1.05, '(a)', color='black', fontsize=24, transform=axes1.transAxes);\n",
    "\n",
    "fig.tight_layout();"
   ]
  },
  {
   "cell_type": "code",
   "execution_count": 29,
   "metadata": {},
   "outputs": [
    {
     "name": "stdout",
     "output_type": "stream",
     "text": [
      "Building test set ...\n",
      "(2985217, 522)\n"
     ]
    }
   ],
   "source": [
    "print('Building test set ...')\n",
    "\n",
    "df_test = df_sample.drop('parcelid', axis=1)\n",
    "\n",
    "print(np.shape(df_test))"
   ]
  },
  {
   "cell_type": "code",
   "execution_count": 30,
   "metadata": {},
   "outputs": [
    {
     "name": "stdout",
     "output_type": "stream",
     "text": [
      "522\n",
      "522\n"
     ]
    }
   ],
   "source": [
    "x_test = df_test[df_test.columns.values]\n",
    "\n",
    "print(len(x_test.columns.values))\n",
    "print(len(x_test.columns.unique()))\n",
    "\n",
    "#del df_test, sample; gc.collect()"
   ]
  },
  {
   "cell_type": "code",
   "execution_count": 33,
   "metadata": {},
   "outputs": [
    {
     "name": "stdout",
     "output_type": "stream",
     "text": [
      "Predicting on test ...\n"
     ]
    }
   ],
   "source": [
    "print('Predicting on test ...')\n",
    "\n",
    "p_test = lgr.predict(x_test)\n",
    "\n",
    "#del d_test; gc.collect()\n",
    "\n",
    "sub = pd.read_csv('sample_submission.csv')\n",
    "for c in sub.columns[sub.columns != 'ParcelId']:\n",
    "    sub[c] = p_test"
   ]
  },
  {
   "cell_type": "code",
   "execution_count": 34,
   "metadata": {},
   "outputs": [
    {
     "name": "stdout",
     "output_type": "stream",
     "text": [
      "Writing csv ...\n"
     ]
    }
   ],
   "source": [
    "print('Writing csv ...')\n",
    "sub.to_csv('17_06_16_LightGBM_MoreFeatures.csv', index=False, float_format='%.4f')"
   ]
  },
  {
   "cell_type": "code",
   "execution_count": null,
   "metadata": {
    "collapsed": true
   },
   "outputs": [],
   "source": []
  }
 ],
 "metadata": {
  "kernelspec": {
   "display_name": "Python 3",
   "language": "python",
   "name": "python3"
  },
  "language_info": {
   "codemirror_mode": {
    "name": "ipython",
    "version": 3
   },
   "file_extension": ".py",
   "mimetype": "text/x-python",
   "name": "python",
   "nbconvert_exporter": "python",
   "pygments_lexer": "ipython3",
   "version": "3.6.1"
  }
 },
 "nbformat": 4,
 "nbformat_minor": 2
}
